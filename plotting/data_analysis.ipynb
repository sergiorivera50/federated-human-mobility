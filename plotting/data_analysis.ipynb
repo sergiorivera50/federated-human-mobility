{
 "cells": [
  {
   "cell_type": "code",
   "execution_count": null,
   "metadata": {},
   "outputs": [],
   "source": [
    "\"\"\"An example notebook for a data_analysis notebook you may write.\n",
    "\n",
    "Please use the recommended TNR font unless your venue requires otherwise.\n",
    "\"\"\"\n",
    "\n",
    "# Write down all of your code for data analysis in this file.\n",
    "# Plot the data and save the figures/tables in the folders \"plots\" and \"tables\"\n",
    "import matplotlib.pyplot as plt\n",
    "import seaborn as sns\n",
    "\n",
    "# Use TNR for all figures\n",
    "# to match paper templates\n",
    "plt.rcParams[\"font.family\"] = \"serif\"\n",
    "plt.rcParams[\"font.serif\"] = [\n",
    "    \"Times New Roman\",\n",
    "] + plt.rcParams[\"font.serif\"]\n",
    "\n",
    "# Whitegrid is most appropriate\n",
    "# for scientific papers\n",
    "sns.set_style(\"whitegrid\")\n",
    "\n",
    "# An optional colorblind palette\n",
    "# for figures\n",
    "CB_color_cycle = [\n",
    "    \"#377EB8\",\n",
    "    \"#FF7F00\",\n",
    "    \"#4DAF4A\",\n",
    "    \"#F781BF\",\n",
    "    \"#A65628\",\n",
    "    \"#984EA3\",\n",
    "    \"#999999\",\n",
    "    \"#E41A1C\",\n",
    "    \"#DEDE00\",\n",
    "]"
   ]
  }
 ],
 "metadata": {
  "kernelspec": {
   "display_name": ".venv",
   "language": "python",
   "name": "python3"
  },
  "language_info": {
   "name": "python",
   "version": "3.11.6"
  }
 },
 "nbformat": 4,
 "nbformat_minor": 2
}
